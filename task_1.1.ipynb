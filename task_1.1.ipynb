{
  "nbformat": 4,
  "nbformat_minor": 0,
  "metadata": {
    "colab": {
      "provenance": []
    },
    "kernelspec": {
      "name": "python3",
      "display_name": "Python 3"
    },
    "language_info": {
      "name": "python"
    }
  },
  "cells": [
    {
      "cell_type": "code",
      "execution_count": null,
      "metadata": {
        "id": "mq9KRexO-Bj2",
        "outputId": "3d3d1b54-13de-4f9c-a726-d2fa85eb1b6d",
        "colab": {
          "base_uri": "https://localhost:8080/",
          "height": 35
        }
      },
      "outputs": [
        {
          "output_type": "execute_result",
          "data": {
            "text/plain": [
              "\"my_favorite_songs= Waste a Moment New Salvation Staying' Alive Start Me Up\""
            ],
            "application/vnd.google.colaboratory.intrinsic+json": {
              "type": "string"
            }
          },
          "metadata": {},
          "execution_count": 2
        }
      ],
      "source": [
        "x = \"my_favorite_songs= Waste a Moment, Staying\\' Alive, A Sorta Fairytale, Start Me Up, New Salvation\"\n",
        "x[0:19]+x[19:33]+x[18] +x[83:96]+x[18]+x[35:49]+x[18]+x[70:81]\n"
      ]
    },
    {
      "cell_type": "code",
      "source": [
        "\n",
        "\n"
      ],
      "metadata": {
        "id": "NklbktH8-JWs"
      },
      "execution_count": null,
      "outputs": []
    }
  ]
}