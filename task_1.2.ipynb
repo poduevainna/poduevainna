{
  "nbformat": 4,
  "nbformat_minor": 0,
  "metadata": {
    "colab": {
      "provenance": []
    },
    "kernelspec": {
      "name": "python3",
      "display_name": "Python 3"
    },
    "language_info": {
      "name": "python"
    }
  },
  "cells": [
    {
      "cell_type": "code",
      "execution_count": null,
      "metadata": {
        "colab": {
          "base_uri": "https://localhost:8080/"
        },
        "id": "BFC-qEVOQd1X",
        "outputId": "745c94ca-8372-4171-dd86-6b095c5cda19"
      },
      "outputs": [
        {
          "output_type": "stream",
          "name": "stdout",
          "text": [
            "Три песни звучат 12.7 минут\n",
            "0:12:42\n"
          ]
        }
      ],
      "source": [
        "from re import search\n",
        "\n",
        "\n",
        "\n",
        "\n",
        "my_favorite_songe = [\n",
        " ['Waste a Moment', 3.03],\n",
        " ['New Salvation', 4.02],\n",
        " ['Stayng\\'Alive', 3.40],\n",
        " ['Out of Touch', 3.03],\n",
        " ['A Sorta Fairytale', 5.28],]\n",
        "\n",
        "\n",
        "\n",
        "\n",
        "import random\n",
        "random.sample(my_favorite_songe,3)\n",
        "x=random.sample(my_favorite_songe,3)\n",
        "\n",
        "sum =x[0][1] +x[1][1] +x[2][1]\n",
        "print(\"Три песни звучат\" ,round(sum,3), \"минут\")\n",
        "import datetime\n",
        "\n",
        "time_format= str ( datetime.timedelta(minutes=sum))\n",
        "print(time_format)\n",
        "\n",
        "\n",
        "\n",
        "\n"
      ]
    },
    {
      "cell_type": "markdown",
      "source": [
        "# Новый раздел"
      ],
      "metadata": {
        "id": "BovbxwCO_P4q"
      }
    }
  ]
}