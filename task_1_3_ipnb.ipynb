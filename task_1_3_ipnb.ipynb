{
  "nbformat": 4,
  "nbformat_minor": 0,
  "metadata": {
    "colab": {
      "provenance": [],
      "authorship_tag": "ABX9TyPojSs6YdqVYJO4Y1wtyb37",
      "include_colab_link": true
    },
    "kernelspec": {
      "name": "python3",
      "display_name": "Python 3"
    },
    "language_info": {
      "name": "python"
    }
  },
  "cells": [
    {
      "cell_type": "markdown",
      "metadata": {
        "id": "view-in-github",
        "colab_type": "text"
      },
      "source": [
        "<a href=\"https://colab.research.google.com/github/poduevainna/poduevainna/blob/main/task_1_3_ipnb.ipynb\" target=\"_parent\"><img src=\"https://colab.research.google.com/assets/colab-badge.svg\" alt=\"Open In Colab\"/></a>"
      ]
    },
    {
      "cell_type": "code",
      "execution_count": null,
      "metadata": {
        "id": "4jnTGjp0B2G6",
        "outputId": "1494321f-10a9-4ce2-ac7d-4a0ef05a845a",
        "colab": {
          "base_uri": "https://localhost:8080/"
        }
      },
      "outputs": [
        {
          "output_type": "stream",
          "name": "stdout",
          "text": [
            "Введите номер месяца3\n",
            "вы ввели Март, 31 день\n"
          ]
        }
      ],
      "source": [
        "day=int(input('Введите номер месяца'))\n",
        "days= [\"Январь, 30 дней\" , \"Февраль, 28 дней\",  \"Март, 31 день\", \"Апрель, 30 дней\",\"Май,31 день\", \"Июнь ,30 дней\", \"Июль, 31 день\", \"Август, 31 день\", \"Сентябрь, 30 дней\", \"Октябрь, 31 день\", \"Ноябрь ,30 дней\", \"Декабрь ,31\"]\n",
        "\n",
        "\n",
        "\n",
        "print( 'вы ввели', days[day-1]   if 1<= day<=12 else 'Такого месяца нет')\n"
      ]
    },
    {
      "cell_type": "markdown",
      "source": [],
      "metadata": {
        "id": "5GDObQLblKvr"
      }
    }
  ]
}